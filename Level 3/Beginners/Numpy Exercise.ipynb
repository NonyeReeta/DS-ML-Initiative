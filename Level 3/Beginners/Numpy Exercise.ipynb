{
 "cells": [
  {
   "cell_type": "code",
   "execution_count": 3,
   "metadata": {},
   "outputs": [
    {
     "name": "stdout",
     "output_type": "stream",
     "text": [
      "Numpy Exercise 1 result:\n",
      "[[100 110]\n",
      " [120 130]\n",
      " [140 150]\n",
      " [160 170]\n",
      " [180 190]]\n"
     ]
    }
   ],
   "source": [
    "import numpy as np\n",
    "\n",
    "\"\"\"Exercise 1: Create a 5*2 integer array from a range between 100 to 200 such \n",
    "that the difference between each element is 10.\"\"\"\n",
    "result = np.arange(start=100, stop=200, step=10)\n",
    "result = result.reshape(5, 2)\n",
    "print(f\"Numpy Exercise 1 result:\\n{result}\")\n"
   ]
  },
  {
   "cell_type": "code",
   "execution_count": 4,
   "metadata": {},
   "outputs": [
    {
     "name": "stdout",
     "output_type": "stream",
     "text": [
      "Numpy Exercise 2 result:\n",
      "sample Array:\n",
      "[[11 22 33]\n",
      " [44 55 66]\n",
      " [77 88 99]]\n",
      "Third column from all rows:\n",
      "[33 66 99]\n"
     ]
    }
   ],
   "source": [
    "\"\"\"Exercise 2: following in the provided numpy array. return array of item in the third column from all rows.\"\"\"\n",
    "sample_array = np.array([[11, 22, 33], [44, 55, 66], [77, 88, 99]])\n",
    "result = sample_array[0:, 2]\n",
    "print(f\"Numpy Exercise 2 result:\\nsample Array:\\n{sample_array}\\nThird column from all rows:\\n{result}\")"
   ]
  },
  {
   "cell_type": "code",
   "execution_count": 6,
   "metadata": {},
   "outputs": [
    {
     "name": "stdout",
     "output_type": "stream",
     "text": [
      "Numpy Exercise 3 result:\n",
      "Array 1:\n",
      "[[ 5  6  9]\n",
      " [21 18 27]]\n",
      "Array 2:\n",
      "[[15 33 22]\n",
      " [ 4  7  1]]\n",
      "Adding arrays:\n",
      "[[20 39 31]\n",
      " [25 25 28]]\n",
      "square of array:\n",
      "[[ 400 1521  961]\n",
      " [ 625  625  784]]\n"
     ]
    }
   ],
   "source": [
    "\"\"\"Exercise 3: Add the following two numpy arrays and Modify a result array by calculating the square of each element\"\"\"\n",
    "array_one = np.array([[5, 6, 9], [21, 18, 27]])\n",
    "array_two = np.array([[15, 33, 22], [4, 7, 1]])\n",
    "print(f\"Numpy Exercise 3 result:\\nArray 1:\\n{array_one}\")\n",
    "print(f\"Array 2:\\n{array_two}\")\n",
    "add_array = np.add(array_one, array_two)\n",
    "sqr_array = np.square(add_array)\n",
    "print(f\"Adding arrays:\\n{add_array}\\nsquare of array:\\n{sqr_array}\")"
   ]
  }
 ],
 "metadata": {
  "kernelspec": {
   "display_name": "Python 3",
   "language": "python",
   "name": "python3"
  },
  "language_info": {
   "codemirror_mode": {
    "name": "ipython",
    "version": 3
   },
   "file_extension": ".py",
   "mimetype": "text/x-python",
   "name": "python",
   "nbconvert_exporter": "python",
   "pygments_lexer": "ipython3",
   "version": "3.8.5"
  }
 },
 "nbformat": 4,
 "nbformat_minor": 4
}
