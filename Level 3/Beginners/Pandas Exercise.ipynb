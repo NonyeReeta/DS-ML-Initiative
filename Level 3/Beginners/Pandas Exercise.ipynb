{
 "cells": [
  {
   "cell_type": "code",
   "execution_count": 3,
   "metadata": {},
   "outputs": [
    {
     "name": "stdout",
     "output_type": "stream",
     "text": [
      "   index      company   body-style  wheel-base  length engine-type  \\\n",
      "0      0  alfa-romero  convertible        88.6   168.8        dohc   \n",
      "1      1  alfa-romero  convertible        88.6   168.8        dohc   \n",
      "2      2  alfa-romero    hatchback        94.5   171.2        ohcv   \n",
      "3      3         audi        sedan        99.8   176.6         ohc   \n",
      "4      4         audi        sedan        99.4   176.6         ohc   \n",
      "\n",
      "  num-of-cylinders  horsepower  average-mileage    price  \n",
      "0             four         111               21  13495.0  \n",
      "1             four         111               21  16500.0  \n",
      "2              six         154               19  16500.0  \n",
      "3             four         102               24  13950.0  \n",
      "4             five         115               18  17450.0  \n",
      "    index     company body-style  wheel-base  length engine-type  \\\n",
      "56     81  volkswagen      sedan        97.3   171.7         ohc   \n",
      "57     82  volkswagen      sedan        97.3   171.7         ohc   \n",
      "58     86  volkswagen      sedan        97.3   171.7         ohc   \n",
      "59     87       volvo      sedan       104.3   188.8         ohc   \n",
      "60     88       volvo      wagon       104.3   188.8         ohc   \n",
      "\n",
      "   num-of-cylinders  horsepower  average-mileage    price  \n",
      "56             four          85               27   7975.0  \n",
      "57             four          52               37   7995.0  \n",
      "58             four         100               26   9995.0  \n",
      "59             four         114               23  12940.0  \n",
      "60             four         114               23  13415.0  \n"
     ]
    }
   ],
   "source": [
    "import pandas as pd\n",
    "automobile_data = pd.read_csv(\"Automobile_data.csv\")\n",
    "\n",
    "\"\"\"Question 1: Printing first 5 rows and last 5 rows\"\"\"\n",
    "print(automobile_data.head())\n",
    "print(automobile_data.tail())"
   ]
  },
  {
   "cell_type": "code",
   "execution_count": 4,
   "metadata": {},
   "outputs": [
    {
     "name": "stdout",
     "output_type": "stream",
     "text": [
      "    index      company   body-style  wheel-base  length engine-type  \\\n",
      "0       0  alfa-romero  convertible        88.6   168.8        dohc   \n",
      "1       1  alfa-romero  convertible        88.6   168.8        dohc   \n",
      "2       2  alfa-romero    hatchback        94.5   171.2        ohcv   \n",
      "3       3         audi        sedan        99.8   176.6         ohc   \n",
      "4       4         audi        sedan        99.4   176.6         ohc   \n",
      "..    ...          ...          ...         ...     ...         ...   \n",
      "56     81   volkswagen        sedan        97.3   171.7         ohc   \n",
      "57     82   volkswagen        sedan        97.3   171.7         ohc   \n",
      "58     86   volkswagen        sedan        97.3   171.7         ohc   \n",
      "59     87        volvo        sedan       104.3   188.8         ohc   \n",
      "60     88        volvo        wagon       104.3   188.8         ohc   \n",
      "\n",
      "   num-of-cylinders  horsepower  average-mileage    price  \n",
      "0              four         111               21  13495.0  \n",
      "1              four         111               21  16500.0  \n",
      "2               six         154               19  16500.0  \n",
      "3              four         102               24  13950.0  \n",
      "4              five         115               18  17450.0  \n",
      "..              ...         ...              ...      ...  \n",
      "56             four          85               27   7975.0  \n",
      "57             four          52               37   7995.0  \n",
      "58             four         100               26   9995.0  \n",
      "59             four         114               23  12940.0  \n",
      "60             four         114               23  13415.0  \n",
      "\n",
      "[61 rows x 10 columns]\n"
     ]
    }
   ],
   "source": [
    "\"\"\"Question 2: Clean data and update csv file.\"\"\"\n",
    "print(automobile_data.replace([\"?\", \"n.a\"], \"NaN\"))"
   ]
  },
  {
   "cell_type": "code",
   "execution_count": 5,
   "metadata": {},
   "outputs": [
    {
     "name": "stdout",
     "output_type": "stream",
     "text": [
      "          company    price\n",
      "35  mercedes-benz  45400.0\n"
     ]
    }
   ],
   "source": [
    "\"\"\"Question 3; Find and print the most expensive car company name and price\"\"\"\n",
    "expensive = automobile_data.loc[automobile_data.price == automobile_data.price.max(), [\"company\", \"price\"]]\n",
    "print(expensive)"
   ]
  },
  {
   "cell_type": "code",
   "execution_count": 6,
   "metadata": {},
   "outputs": [
    {
     "name": "stdout",
     "output_type": "stream",
     "text": [
      "    index company body-style  wheel-base  length engine-type num-of-cylinders  \\\n",
      "48     66  toyota  hatchback        95.7   158.7         ohc             four   \n",
      "49     67  toyota  hatchback        95.7   158.7         ohc             four   \n",
      "50     68  toyota  hatchback        95.7   158.7         ohc             four   \n",
      "51     69  toyota      wagon        95.7   169.7         ohc             four   \n",
      "52     70  toyota      wagon        95.7   169.7         ohc             four   \n",
      "53     71  toyota      wagon        95.7   169.7         ohc             four   \n",
      "54     79  toyota      wagon       104.5   187.8        dohc              six   \n",
      "\n",
      "    horsepower  average-mileage    price  \n",
      "48          62               35   5348.0  \n",
      "49          62               31   6338.0  \n",
      "50          62               31   6488.0  \n",
      "51          62               31   6918.0  \n",
      "52          62               27   7898.0  \n",
      "53          62               27   8778.0  \n",
      "54         156               19  15750.0  \n"
     ]
    }
   ],
   "source": [
    "\"\"\"Question 4: Print all Toyota car details\"\"\"\n",
    "toyota_details = automobile_data.loc[automobile_data.company == \"toyota\"]\n",
    "print(toyota_details)"
   ]
  },
  {
   "cell_type": "code",
   "execution_count": 7,
   "metadata": {},
   "outputs": [
    {
     "name": "stdout",
     "output_type": "stream",
     "text": [
      "company\n",
      "alfa-romero      3\n",
      "audi             4\n",
      "bmw              6\n",
      "chevrolet        3\n",
      "dodge            2\n",
      "honda            3\n",
      "isuzu            3\n",
      "jaguar           3\n",
      "mazda            5\n",
      "mercedes-benz    4\n",
      "mitsubishi       4\n",
      "nissan           5\n",
      "porsche          3\n",
      "toyota           7\n",
      "volkswagen       4\n",
      "volvo            2\n",
      "Name: company, dtype: int64\n"
     ]
    }
   ],
   "source": [
    "\"\"\"Question 5: Count cars per company\"\"\"\n",
    "print(automobile_data.groupby(\"company\")[\"company\"].count())"
   ]
  },
  {
   "cell_type": "code",
   "execution_count": 8,
   "metadata": {},
   "outputs": [
    {
     "name": "stdout",
     "output_type": "stream",
     "text": [
      "                 price\n",
      "company               \n",
      "alfa-romero    16500.0\n",
      "audi           18920.0\n",
      "bmw            41315.0\n",
      "chevrolet       6575.0\n",
      "dodge           6377.0\n",
      "honda          12945.0\n",
      "isuzu           6785.0\n",
      "jaguar         36000.0\n",
      "mazda          18344.0\n",
      "mercedes-benz  45400.0\n",
      "mitsubishi      8189.0\n",
      "nissan         13499.0\n",
      "porsche        37028.0\n",
      "toyota         15750.0\n",
      "volkswagen      9995.0\n",
      "volvo          13415.0\n"
     ]
    }
   ],
   "source": [
    "\"\"\"Question 6: Find each company's highest priced car\"\"\"\n",
    "print(automobile_data[[\"company\", \"price\"]].groupby(\"company\").max())"
   ]
  },
  {
   "cell_type": "code",
   "execution_count": 9,
   "metadata": {},
   "outputs": [
    {
     "name": "stdout",
     "output_type": "stream",
     "text": [
      "               average-mileage\n",
      "company                       \n",
      "alfa-romero          20.333333\n",
      "audi                 20.000000\n",
      "bmw                  19.000000\n",
      "chevrolet            41.000000\n",
      "dodge                31.000000\n",
      "honda                26.333333\n",
      "isuzu                33.333333\n",
      "jaguar               14.333333\n",
      "mazda                28.000000\n",
      "mercedes-benz        18.000000\n",
      "mitsubishi           29.500000\n",
      "nissan               31.400000\n",
      "porsche              17.000000\n",
      "toyota               28.714286\n",
      "volkswagen           31.750000\n",
      "volvo                23.000000\n"
     ]
    }
   ],
   "source": [
    "\"\"\"Question 7: Find the average mileage of each car making company\"\"\"\n",
    "print(automobile_data[[\"company\", \"average-mileage\"]].groupby(\"company\").mean())"
   ]
  },
  {
   "cell_type": "code",
   "execution_count": 10,
   "metadata": {},
   "outputs": [
    {
     "name": "stdout",
     "output_type": "stream",
     "text": [
      "    index        company body-style  wheel-base  length engine-type  \\\n",
      "13     16      chevrolet  hatchback        88.4   141.1           l   \n",
      "27     36          mazda  hatchback        93.1   159.1         ohc   \n",
      "48     66         toyota  hatchback        95.7   158.7         ohc   \n",
      "36     49     mitsubishi  hatchback        93.7   157.3         ohc   \n",
      "28     37          mazda  hatchback        93.1   159.1         ohc   \n",
      "..    ...            ...        ...         ...     ...         ...   \n",
      "11     14            bmw      sedan       103.5   193.8         ohc   \n",
      "35     47  mercedes-benz    hardtop       112.0   199.2        ohcv   \n",
      "22     31          isuzu      sedan        94.5   155.9         ohc   \n",
      "23     32          isuzu      sedan        94.5   155.9         ohc   \n",
      "47     63        porsche  hatchback        98.4   175.7       dohcv   \n",
      "\n",
      "   num-of-cylinders  horsepower  average-mileage    price  \n",
      "13            three          48               47   5151.0  \n",
      "27             four          68               30   5195.0  \n",
      "48             four          62               35   5348.0  \n",
      "36             four          68               37   5389.0  \n",
      "28             four          68               31   6095.0  \n",
      "..              ...         ...              ...      ...  \n",
      "11              six         182               16  41315.0  \n",
      "35            eight         184               14  45400.0  \n",
      "22             four          70               38      NaN  \n",
      "23             four          70               38      NaN  \n",
      "47            eight         288               17      NaN  \n",
      "\n",
      "[61 rows x 10 columns]\n"
     ]
    }
   ],
   "source": [
    "\"\"\"Question 8: sort all cars by Price column\"\"\"\n",
    "print(automobile_data.sort_values(by=\"price\"))"
   ]
  },
  {
   "cell_type": "code",
   "execution_count": 11,
   "metadata": {},
   "outputs": [
    {
     "name": "stdout",
     "output_type": "stream",
     "text": [
      "                    Company   Price\n",
      "German Cars   0        Ford   23845\n",
      "              1    Mercedes  171995\n",
      "              2         BMW  135925\n",
      "              3        Audi   71400\n",
      "Japanese Cars 0      Toyota   29995\n",
      "              1       Honda   23600\n",
      "              2      Nissan   61500\n",
      "              3  Mitsubishi   58900\n"
     ]
    }
   ],
   "source": [
    "\"\"\"Question 9: Concatenate two dataframes and create a key for each dataframe\"\"\"\n",
    "german_cars = {\n",
    "    \"Company\": [\"Ford\", \"Mercedes\", \"BMW\", \"Audi\"],\n",
    "    \"Price\": [23845, 171995, 135925, 71400]\n",
    "}\n",
    "japanese_cars = {\n",
    "    \"Company\": [\"Toyota\", \"Honda\", \"Nissan\", \"Mitsubishi\"],\n",
    "    \"Price\": [29995, 23600, 61500, 58900]\n",
    "}\n",
    "df1 = pd.DataFrame(german_cars)\n",
    "df2 = pd.DataFrame(japanese_cars)\n",
    "frames = [df1, df2]\n",
    "print(pd.concat(frames, keys=[\"German Cars\", \"Japanese Cars\"]))"
   ]
  },
  {
   "cell_type": "code",
   "execution_count": 12,
   "metadata": {},
   "outputs": [
    {
     "name": "stdout",
     "output_type": "stream",
     "text": [
      "  Company   Price  horsepower\n",
      "0  Toyota   23845         141\n",
      "1   Honda   17995          80\n",
      "2     BMW  135925         182\n",
      "3    Audi   71400         160\n"
     ]
    }
   ],
   "source": [
    "\"\"\"Question 10: Merge two dataframes and append the second dataframe as a new column to the first dataframe\"\"\"\n",
    "\n",
    "car_price = {\n",
    "    \"Company\": [\"Toyota\", \"Honda\", \"BMW\", \"Audi\"],\n",
    "    \"Price\": [23845, 17995, 135925, 71400]\n",
    "}\n",
    "car_horsepower = {\n",
    "    \"Company\": [\"Toyota\", \"Honda\", \"BMW\", \"Audi\"],\n",
    "    \"horsepower\": [141, 80, 182, 160]\n",
    "}\n",
    "df_1 = pd.DataFrame(car_price)\n",
    "df_2 = pd.DataFrame(car_horsepower)\n",
    "merged_df = pd.merge(df_1, df_2)\n",
    "print(merged_df)"
   ]
  }
 ],
 "metadata": {
  "kernelspec": {
   "display_name": "Python 3",
   "language": "python",
   "name": "python3"
  },
  "language_info": {
   "codemirror_mode": {
    "name": "ipython",
    "version": 3
   },
   "file_extension": ".py",
   "mimetype": "text/x-python",
   "name": "python",
   "nbconvert_exporter": "python",
   "pygments_lexer": "ipython3",
   "version": "3.8.5"
  }
 },
 "nbformat": 4,
 "nbformat_minor": 4
}
